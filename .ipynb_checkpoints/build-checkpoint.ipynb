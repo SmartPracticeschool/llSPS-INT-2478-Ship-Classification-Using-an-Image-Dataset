{
 "cells": [
  {
   "cell_type": "markdown",
   "metadata": {},
   "source": [
    "# PRE-PROCESSING "
   ]
  },
  {
   "cell_type": "code",
   "execution_count": 1,
   "metadata": {},
   "outputs": [
    {
     "name": "stderr",
     "output_type": "stream",
     "text": [
      "Using TensorFlow backend.\n"
     ]
    }
   ],
   "source": [
    "import warnings\n",
    "warnings.filterwarnings('ignore')\n",
    "import keras"
   ]
  },
  {
   "cell_type": "code",
   "execution_count": 2,
   "metadata": {},
   "outputs": [],
   "source": [
    "from keras.preprocessing.image import ImageDataGenerator"
   ]
  },
  {
   "cell_type": "code",
   "execution_count": 3,
   "metadata": {},
   "outputs": [],
   "source": [
    "img_data_gen_train = ImageDataGenerator(rescale = 1./255,shear_range = 0.2,zoom_range = 0.2,horizontal_flip = True)\n",
    "img_data_gen_test = ImageDataGenerator(rescale = 1./255)"
   ]
  },
  {
   "cell_type": "code",
   "execution_count": 4,
   "metadata": {},
   "outputs": [
    {
     "name": "stdout",
     "output_type": "stream",
     "text": [
      "Found 1500 images belonging to 3 classes.\n",
      "Found 352 images belonging to 3 classes.\n"
     ]
    }
   ],
   "source": [
    "train = img_data_gen_train.flow_from_directory('dataset/train',target_size = (128,128),batch_size = 16, class_mode = 'categorical')\n",
    "test = img_data_gen_test.flow_from_directory('dataset/test',target_size = (128,128),batch_size = 16, class_mode = 'categorical')\n"
   ]
  },
  {
   "cell_type": "code",
   "execution_count": 5,
   "metadata": {},
   "outputs": [
    {
     "data": {
      "text/plain": [
       "{'Cargo': 0, 'Carrier': 1, 'Cruise': 2}"
      ]
     },
     "execution_count": 5,
     "metadata": {},
     "output_type": "execute_result"
    }
   ],
   "source": [
    "train.class_indices\n"
   ]
  },
  {
   "cell_type": "markdown",
   "metadata": {},
   "source": [
    "# BUILDING MODEL\n"
   ]
  },
  {
   "cell_type": "code",
   "execution_count": 6,
   "metadata": {},
   "outputs": [],
   "source": [
    "from keras.models import Sequential\n",
    "from keras.layers import Conv2D,MaxPooling2D,Dense,Flatten"
   ]
  },
  {
   "cell_type": "code",
   "execution_count": 7,
   "metadata": {},
   "outputs": [],
   "source": [
    "model = Sequential()"
   ]
  },
  {
   "cell_type": "code",
   "execution_count": 8,
   "metadata": {},
   "outputs": [],
   "source": [
    "model.add(Conv2D(32,(3,3),activation = 'relu',input_shape = (64,64,3)))"
   ]
  },
  {
   "cell_type": "code",
   "execution_count": 9,
   "metadata": {},
   "outputs": [
    {
     "name": "stdout",
     "output_type": "stream",
     "text": [
      "WARNING:tensorflow:From C:\\Users\\Anas\\anaconda3\\lib\\site-packages\\keras\\backend\\tensorflow_backend.py:4070: The name tf.nn.max_pool is deprecated. Please use tf.nn.max_pool2d instead.\n",
      "\n"
     ]
    }
   ],
   "source": [
    "model.add(MaxPooling2D(pool_size = (2,2)))"
   ]
  },
  {
   "cell_type": "code",
   "execution_count": 10,
   "metadata": {},
   "outputs": [],
   "source": [
    "model.add(Flatten())"
   ]
  },
  {
   "cell_type": "code",
   "execution_count": 11,
   "metadata": {},
   "outputs": [
    {
     "name": "stderr",
     "output_type": "stream",
     "text": [
      "C:\\Users\\Anas\\anaconda3\\lib\\site-packages\\ipykernel_launcher.py:1: UserWarning: Update your `Dense` call to the Keras 2 API: `Dense(activation=\"relu\", units=128, kernel_initializer=\"random_uniform\")`\n",
      "  \"\"\"Entry point for launching an IPython kernel.\n"
     ]
    }
   ],
   "source": [
    "model.add(Dense(output_dim = 128,activation = 'relu', init ='random_uniform' ))"
   ]
  },
  {
   "cell_type": "code",
   "execution_count": 12,
   "metadata": {},
   "outputs": [
    {
     "name": "stderr",
     "output_type": "stream",
     "text": [
      "C:\\Users\\Anas\\anaconda3\\lib\\site-packages\\ipykernel_launcher.py:1: UserWarning: Update your `Dense` call to the Keras 2 API: `Dense(activation=\"relu\", units=64, kernel_initializer=\"random_uniform\")`\n",
      "  \"\"\"Entry point for launching an IPython kernel.\n"
     ]
    }
   ],
   "source": [
    "model.add(Dense(output_dim = 64,activation = 'relu', init ='random_uniform' ))"
   ]
  },
  {
   "cell_type": "code",
   "execution_count": 13,
   "metadata": {},
   "outputs": [
    {
     "name": "stderr",
     "output_type": "stream",
     "text": [
      "C:\\Users\\Anas\\anaconda3\\lib\\site-packages\\ipykernel_launcher.py:1: UserWarning: Update your `Dense` call to the Keras 2 API: `Dense(activation=\"softmax\", units=3, kernel_initializer=\"random_uniform\")`\n",
      "  \"\"\"Entry point for launching an IPython kernel.\n"
     ]
    }
   ],
   "source": [
    "model.add(Dense(output_dim = 3,activation = 'softmax', init ='random_uniform' ))"
   ]
  },
  {
   "cell_type": "code",
   "execution_count": 14,
   "metadata": {},
   "outputs": [],
   "source": [
    "model.compile(loss='binary_crossentropy',metrics = ['accuracy'] , optimizer = 'adam')"
   ]
  },
  {
   "cell_type": "code",
   "execution_count": 15,
   "metadata": {},
   "outputs": [
    {
     "name": "stdout",
     "output_type": "stream",
     "text": [
      "WARNING:tensorflow:From C:\\Users\\Anas\\anaconda3\\lib\\site-packages\\tensorflow\\python\\ops\\math_grad.py:1250: add_dispatch_support.<locals>.wrapper (from tensorflow.python.ops.array_ops) is deprecated and will be removed in a future version.\n",
      "Instructions for updating:\n",
      "Use tf.where in 2.0, which has the same broadcast rule as np.where\n",
      "WARNING:tensorflow:From C:\\Users\\Anas\\anaconda3\\lib\\site-packages\\keras\\backend\\tensorflow_backend.py:422: The name tf.global_variables is deprecated. Please use tf.compat.v1.global_variables instead.\n",
      "\n",
      "Epoch 1/50\n",
      "94/94 [==============================] - 49s 522ms/step - loss: 0.6316 - accuracy: 0.6649 - val_loss: 0.6140 - val_accuracy: 0.6799\n",
      "Epoch 2/50\n",
      "94/94 [==============================] - 13s 133ms/step - loss: 0.5813 - accuracy: 0.6931 - val_loss: 0.5476 - val_accuracy: 0.7282\n",
      "Epoch 3/50\n",
      "94/94 [==============================] - 13s 135ms/step - loss: 0.5045 - accuracy: 0.7471 - val_loss: 0.4242 - val_accuracy: 0.7926\n",
      "Epoch 4/50\n",
      "94/94 [==============================] - 12s 131ms/step - loss: 0.4598 - accuracy: 0.7836 - val_loss: 0.3765 - val_accuracy: 0.7945\n",
      "Epoch 5/50\n",
      "94/94 [==============================] - 13s 135ms/step - loss: 0.4043 - accuracy: 0.8076 - val_loss: 0.4059 - val_accuracy: 0.8362\n",
      "Epoch 6/50\n",
      "94/94 [==============================] - 13s 133ms/step - loss: 0.3698 - accuracy: 0.8416 - val_loss: 0.2699 - val_accuracy: 0.8390\n",
      "Epoch 7/50\n",
      "94/94 [==============================] - 13s 136ms/step - loss: 0.3390 - accuracy: 0.8509 - val_loss: 0.4946 - val_accuracy: 0.8438\n",
      "Epoch 8/50\n",
      "94/94 [==============================] - 13s 133ms/step - loss: 0.3222 - accuracy: 0.8627 - val_loss: 0.2778 - val_accuracy: 0.8314\n",
      "Epoch 9/50\n",
      "94/94 [==============================] - 13s 136ms/step - loss: 0.3222 - accuracy: 0.8629 - val_loss: 0.2795 - val_accuracy: 0.8598\n",
      "Epoch 10/50\n",
      "94/94 [==============================] - 13s 135ms/step - loss: 0.2873 - accuracy: 0.8798 - val_loss: 0.4958 - val_accuracy: 0.8239\n",
      "Epoch 11/50\n",
      "94/94 [==============================] - 13s 138ms/step - loss: 0.2510 - accuracy: 0.8929 - val_loss: 0.7532 - val_accuracy: 0.8561\n",
      "Epoch 12/50\n",
      "94/94 [==============================] - 13s 136ms/step - loss: 0.2567 - accuracy: 0.8922 - val_loss: 0.5388 - val_accuracy: 0.8741\n",
      "Epoch 13/50\n",
      "94/94 [==============================] - 13s 137ms/step - loss: 0.2361 - accuracy: 0.9042 - val_loss: 0.4633 - val_accuracy: 0.8778\n",
      "Epoch 14/50\n",
      "94/94 [==============================] - 13s 141ms/step - loss: 0.2242 - accuracy: 0.9127 - val_loss: 0.2485 - val_accuracy: 0.8504\n",
      "Epoch 15/50\n",
      "94/94 [==============================] - 13s 133ms/step - loss: 0.2232 - accuracy: 0.9102 - val_loss: 0.7448 - val_accuracy: 0.8608\n",
      "Epoch 16/50\n",
      "94/94 [==============================] - 13s 137ms/step - loss: 0.1935 - accuracy: 0.9216 - val_loss: 0.2476 - val_accuracy: 0.8750\n",
      "Epoch 17/50\n",
      "94/94 [==============================] - 13s 136ms/step - loss: 0.1813 - accuracy: 0.9264 - val_loss: 0.2819 - val_accuracy: 0.8712\n",
      "Epoch 18/50\n",
      "94/94 [==============================] - 13s 136ms/step - loss: 0.1786 - accuracy: 0.9307 - val_loss: 0.8998 - val_accuracy: 0.8523\n",
      "Epoch 19/50\n",
      "94/94 [==============================] - 14s 144ms/step - loss: 0.1505 - accuracy: 0.9353 - val_loss: 0.8185 - val_accuracy: 0.8826\n",
      "Epoch 20/50\n",
      "94/94 [==============================] - 13s 143ms/step - loss: 0.1474 - accuracy: 0.9478 - val_loss: 0.2996 - val_accuracy: 0.8769\n",
      "Epoch 21/50\n",
      "94/94 [==============================] - 14s 153ms/step - loss: 0.1491 - accuracy: 0.9402 - val_loss: 0.2879 - val_accuracy: 0.8854\n",
      "Epoch 22/50\n",
      "94/94 [==============================] - 14s 146ms/step - loss: 0.1341 - accuracy: 0.9476 - val_loss: 0.4043 - val_accuracy: 0.8854\n",
      "Epoch 23/50\n",
      "94/94 [==============================] - 13s 143ms/step - loss: 0.1408 - accuracy: 0.9451 - val_loss: 0.6475 - val_accuracy: 0.8731\n",
      "Epoch 24/50\n",
      "94/94 [==============================] - 13s 143ms/step - loss: 0.1225 - accuracy: 0.9520 - val_loss: 0.0321 - val_accuracy: 0.8731\n",
      "Epoch 25/50\n",
      "94/94 [==============================] - 14s 146ms/step - loss: 0.1206 - accuracy: 0.9547 - val_loss: 0.3918 - val_accuracy: 0.8769\n",
      "Epoch 26/50\n",
      "94/94 [==============================] - 14s 146ms/step - loss: 0.0968 - accuracy: 0.9629 - val_loss: 0.4234 - val_accuracy: 0.8542\n",
      "Epoch 27/50\n",
      "94/94 [==============================] - 13s 143ms/step - loss: 0.1169 - accuracy: 0.9556 - val_loss: 0.4353 - val_accuracy: 0.8655\n",
      "Epoch 28/50\n",
      "94/94 [==============================] - 14s 149ms/step - loss: 0.0988 - accuracy: 0.9642 - val_loss: 0.6662 - val_accuracy: 0.8845\n",
      "Epoch 29/50\n",
      "94/94 [==============================] - 13s 143ms/step - loss: 0.0953 - accuracy: 0.9633 - val_loss: 0.2666 - val_accuracy: 0.8845\n",
      "Epoch 30/50\n",
      "94/94 [==============================] - 14s 144ms/step - loss: 0.0961 - accuracy: 0.9660 - val_loss: 0.1082 - val_accuracy: 0.8797\n",
      "Epoch 31/50\n",
      "94/94 [==============================] - 14s 145ms/step - loss: 0.0891 - accuracy: 0.9656 - val_loss: 0.3652 - val_accuracy: 0.8778\n",
      "Epoch 32/50\n",
      "94/94 [==============================] - 13s 141ms/step - loss: 0.0855 - accuracy: 0.9673 - val_loss: 0.7354 - val_accuracy: 0.8778\n",
      "Epoch 33/50\n",
      "94/94 [==============================] - 13s 141ms/step - loss: 0.0622 - accuracy: 0.9762 - val_loss: 0.2053 - val_accuracy: 0.8920\n",
      "Epoch 34/50\n",
      "94/94 [==============================] - 14s 152ms/step - loss: 0.0652 - accuracy: 0.9767 - val_loss: 0.7839 - val_accuracy: 0.8996\n",
      "Epoch 35/50\n",
      "94/94 [==============================] - 14s 145ms/step - loss: 0.0661 - accuracy: 0.9767 - val_loss: 0.4719 - val_accuracy: 0.8712\n",
      "Epoch 36/50\n",
      "94/94 [==============================] - 13s 143ms/step - loss: 0.0572 - accuracy: 0.9813 - val_loss: 0.3527 - val_accuracy: 0.8939\n",
      "Epoch 37/50\n",
      "94/94 [==============================] - 13s 142ms/step - loss: 0.0685 - accuracy: 0.9727 - val_loss: 0.2002 - val_accuracy: 0.8902\n",
      "Epoch 38/50\n",
      "94/94 [==============================] - 13s 141ms/step - loss: 0.1068 - accuracy: 0.9602 - val_loss: 0.5157 - val_accuracy: 0.8826\n",
      "Epoch 39/50\n",
      "94/94 [==============================] - 14s 144ms/step - loss: 0.0658 - accuracy: 0.9749 - val_loss: 1.4545 - val_accuracy: 0.8741\n",
      "Epoch 40/50\n",
      "94/94 [==============================] - 14s 144ms/step - loss: 0.0746 - accuracy: 0.9740 - val_loss: 0.1366 - val_accuracy: 0.8883\n",
      "Epoch 41/50\n",
      "94/94 [==============================] - 14s 145ms/step - loss: 0.0584 - accuracy: 0.9807 - val_loss: 0.3740 - val_accuracy: 0.8684\n",
      "Epoch 42/50\n",
      "94/94 [==============================] - 13s 141ms/step - loss: 0.0597 - accuracy: 0.9771 - val_loss: 0.0210 - val_accuracy: 0.8674\n",
      "Epoch 43/50\n",
      "94/94 [==============================] - 13s 142ms/step - loss: 0.0574 - accuracy: 0.9784 - val_loss: 0.3777 - val_accuracy: 0.8788\n",
      "Epoch 44/50\n",
      "94/94 [==============================] - 13s 141ms/step - loss: 0.0580 - accuracy: 0.9789 - val_loss: 0.8316 - val_accuracy: 0.8864\n",
      "Epoch 45/50\n",
      "94/94 [==============================] - 14s 147ms/step - loss: 0.0616 - accuracy: 0.9789 - val_loss: 0.6609 - val_accuracy: 0.8788\n",
      "Epoch 46/50\n",
      "94/94 [==============================] - 14s 145ms/step - loss: 0.0399 - accuracy: 0.9856 - val_loss: 0.5645 - val_accuracy: 0.8968\n",
      "Epoch 47/50\n",
      "94/94 [==============================] - 13s 142ms/step - loss: 0.0475 - accuracy: 0.9827 - val_loss: 0.1395 - val_accuracy: 0.8807\n",
      "Epoch 48/50\n",
      "94/94 [==============================] - 13s 141ms/step - loss: 0.0437 - accuracy: 0.9824 - val_loss: 0.3791 - val_accuracy: 0.8892\n",
      "Epoch 49/50\n",
      "94/94 [==============================] - 13s 142ms/step - loss: 0.0456 - accuracy: 0.9849 - val_loss: 0.5788 - val_accuracy: 0.9025\n",
      "Epoch 50/50\n",
      "94/94 [==============================] - 13s 141ms/step - loss: 0.0645 - accuracy: 0.9796 - val_loss: 0.8285 - val_accuracy: 0.8920\n"
     ]
    },
    {
     "data": {
      "text/plain": [
       "<keras.callbacks.callbacks.History at 0x1ebeea16f48>"
      ]
     },
     "execution_count": 15,
     "metadata": {},
     "output_type": "execute_result"
    }
   ],
   "source": [
    "model.fit_generator(train ,validation_data=test,epochs = 50)"
   ]
  },
  {
   "cell_type": "code",
   "execution_count": 16,
   "metadata": {},
   "outputs": [],
   "source": [
    "model.save('ship_classification.h5')"
   ]
  },
  {
   "cell_type": "code",
   "execution_count": 18,
   "metadata": {},
   "outputs": [
    {
     "data": {
      "text/plain": [
       "342"
      ]
     },
     "execution_count": 18,
     "metadata": {},
     "output_type": "execute_result"
    }
   ],
   "source": []
  }
 ],
 "metadata": {
  "kernelspec": {
   "display_name": "Python 3",
   "language": "python",
   "name": "python3"
  },
  "language_info": {
   "codemirror_mode": {
    "name": "ipython",
    "version": 3
   },
   "file_extension": ".py",
   "mimetype": "text/x-python",
   "name": "python",
   "nbconvert_exporter": "python",
   "pygments_lexer": "ipython3",
   "version": "3.7.6"
  }
 },
 "nbformat": 4,
 "nbformat_minor": 4
}
