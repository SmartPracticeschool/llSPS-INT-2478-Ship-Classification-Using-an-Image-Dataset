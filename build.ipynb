{
 "cells": [
  {
   "cell_type": "markdown",
   "metadata": {},
   "source": [
    "# PRE-PROCESSING "
   ]
  },
  {
   "cell_type": "code",
   "execution_count": 1,
   "metadata": {},
   "outputs": [
    {
     "name": "stderr",
     "output_type": "stream",
     "text": [
      "Using TensorFlow backend.\n"
     ]
    }
   ],
   "source": [
    "import warnings\n",
    "warnings.filterwarnings('ignore')\n",
    "import keras"
   ]
  },
  {
   "cell_type": "code",
   "execution_count": 3,
   "metadata": {},
   "outputs": [],
   "source": [
    "from keras.preprocessing.image import ImageDataGenerator"
   ]
  },
  {
   "cell_type": "code",
   "execution_count": 4,
   "metadata": {},
   "outputs": [],
   "source": [
    "img_data_gen_train = ImageDataGenerator(rescale = 1./255,shear_range = 0.2,zoom_range = 0.2,horizontal_flip = True)\n",
    "img_data_gen_test = ImageDataGenerator(rescale = 1./255)"
   ]
  },
  {
   "cell_type": "code",
   "execution_count": 5,
   "metadata": {},
   "outputs": [
    {
     "name": "stdout",
     "output_type": "stream",
     "text": [
      "Found 1500 images belonging to 3 classes.\n",
      "Found 352 images belonging to 3 classes.\n"
     ]
    }
   ],
   "source": [
    "train = img_data_gen_train.flow_from_directory('dataset/train',target_size = (64,64),batch_size = 16, class_mode = 'categorical')\n",
    "test = img_data_gen_test.flow_from_directory('dataset/test',target_size = (64,64),batch_size = 16, class_mode = 'categorical')\n"
   ]
  },
  {
   "cell_type": "code",
   "execution_count": 6,
   "metadata": {},
   "outputs": [
    {
     "data": {
      "text/plain": [
       "{'Cargo': 0, 'Carrier': 1, 'Cruise': 2}"
      ]
     },
     "execution_count": 6,
     "metadata": {},
     "output_type": "execute_result"
    }
   ],
   "source": [
    "train.class_indices\n"
   ]
  },
  {
   "cell_type": "markdown",
   "metadata": {},
   "source": [
    "# BUILDING MODEL\n"
   ]
  },
  {
   "cell_type": "code",
   "execution_count": 7,
   "metadata": {},
   "outputs": [],
   "source": [
    "from keras.models import Sequential\n",
    "from keras.layers import Conv2D,MaxPooling2D,Dense,Flatten"
   ]
  },
  {
   "cell_type": "code",
   "execution_count": 8,
   "metadata": {},
   "outputs": [],
   "source": [
    "model = Sequential()"
   ]
  },
  {
   "cell_type": "code",
   "execution_count": 9,
   "metadata": {},
   "outputs": [],
   "source": [
    "model.add(Conv2D(32,(3,3),activation = 'relu',input_shape = (64,64,3)))"
   ]
  },
  {
   "cell_type": "code",
   "execution_count": 10,
   "metadata": {},
   "outputs": [
    {
     "name": "stdout",
     "output_type": "stream",
     "text": [
      "WARNING:tensorflow:From C:\\Users\\Anas\\anaconda3\\lib\\site-packages\\keras\\backend\\tensorflow_backend.py:4070: The name tf.nn.max_pool is deprecated. Please use tf.nn.max_pool2d instead.\n",
      "\n"
     ]
    }
   ],
   "source": [
    "model.add(MaxPooling2D(pool_size = (2,2)))"
   ]
  },
  {
   "cell_type": "code",
   "execution_count": 11,
   "metadata": {},
   "outputs": [],
   "source": [
    "model.add(Flatten())"
   ]
  },
  {
   "cell_type": "code",
   "execution_count": 12,
   "metadata": {},
   "outputs": [],
   "source": [
    "model.add(Dense(output_dim = 128,activation = 'relu', init ='random_uniform' ))"
   ]
  },
  {
   "cell_type": "code",
   "execution_count": 13,
   "metadata": {},
   "outputs": [],
   "source": [
    "model.add(Dense(output_dim = 64,activation = 'relu', init ='random_uniform' ))"
   ]
  },
  {
   "cell_type": "code",
   "execution_count": 14,
   "metadata": {},
   "outputs": [],
   "source": [
    "model.add(Dense(output_dim = 3,activation = 'softmax', init ='random_uniform' ))"
   ]
  },
  {
   "cell_type": "code",
   "execution_count": 15,
   "metadata": {},
   "outputs": [],
   "source": [
    "model.compile(loss='categorical_crossentropy',metrics = ['accuracy'] , optimizer = 'adam')"
   ]
  },
  {
   "cell_type": "code",
   "execution_count": 16,
   "metadata": {},
   "outputs": [
    {
     "name": "stdout",
     "output_type": "stream",
     "text": [
      "WARNING:tensorflow:From C:\\Users\\Anas\\anaconda3\\lib\\site-packages\\keras\\backend\\tensorflow_backend.py:422: The name tf.global_variables is deprecated. Please use tf.compat.v1.global_variables instead.\n",
      "\n",
      "Epoch 1/25\n",
      "94/94 [==============================] - 13s 139ms/step - loss: 1.0991 - accuracy: 0.3447 - val_loss: 1.0942 - val_accuracy: 0.4773\n",
      "Epoch 2/25\n",
      "94/94 [==============================] - 13s 136ms/step - loss: 1.0368 - accuracy: 0.4693 - val_loss: 0.9714 - val_accuracy: 0.6307\n",
      "Epoch 3/25\n",
      "94/94 [==============================] - 13s 136ms/step - loss: 0.8373 - accuracy: 0.6167 - val_loss: 0.6760 - val_accuracy: 0.6676\n",
      "Epoch 4/25\n",
      "94/94 [==============================] - 13s 133ms/step - loss: 0.7217 - accuracy: 0.6980 - val_loss: 0.6728 - val_accuracy: 0.7358\n",
      "Epoch 5/25\n",
      "94/94 [==============================] - 12s 133ms/step - loss: 0.6570 - accuracy: 0.7253 - val_loss: 0.7877 - val_accuracy: 0.6761\n",
      "Epoch 6/25\n",
      "94/94 [==============================] - 13s 133ms/step - loss: 0.6163 - accuracy: 0.7380 - val_loss: 0.6702 - val_accuracy: 0.7983\n",
      "Epoch 7/25\n",
      "94/94 [==============================] - 13s 135ms/step - loss: 0.5871 - accuracy: 0.7500 - val_loss: 0.6502 - val_accuracy: 0.7386\n",
      "Epoch 8/25\n",
      "94/94 [==============================] - 13s 136ms/step - loss: 0.5139 - accuracy: 0.7900 - val_loss: 0.2659 - val_accuracy: 0.7670\n",
      "Epoch 9/25\n",
      "94/94 [==============================] - 12s 133ms/step - loss: 0.4820 - accuracy: 0.8000 - val_loss: 0.3483 - val_accuracy: 0.7699\n",
      "Epoch 10/25\n",
      "94/94 [==============================] - 13s 138ms/step - loss: 0.4456 - accuracy: 0.8207 - val_loss: 1.0125 - val_accuracy: 0.7869\n",
      "Epoch 11/25\n",
      "94/94 [==============================] - 13s 137ms/step - loss: 0.4201 - accuracy: 0.8287 - val_loss: 0.3876 - val_accuracy: 0.7642\n",
      "Epoch 12/25\n",
      "94/94 [==============================] - 12s 130ms/step - loss: 0.3959 - accuracy: 0.8473 - val_loss: 0.9906 - val_accuracy: 0.8040\n",
      "Epoch 13/25\n",
      "94/94 [==============================] - 12s 129ms/step - loss: 0.3676 - accuracy: 0.8520 - val_loss: 0.4712 - val_accuracy: 0.8011\n",
      "Epoch 14/25\n",
      "94/94 [==============================] - 13s 135ms/step - loss: 0.3432 - accuracy: 0.8767 - val_loss: 0.0773 - val_accuracy: 0.8097\n",
      "Epoch 15/25\n",
      "94/94 [==============================] - 13s 136ms/step - loss: 0.3247 - accuracy: 0.8773 - val_loss: 1.2968 - val_accuracy: 0.8239\n",
      "Epoch 16/25\n",
      "94/94 [==============================] - 13s 135ms/step - loss: 0.2893 - accuracy: 0.8793 - val_loss: 0.8185 - val_accuracy: 0.8182\n",
      "Epoch 17/25\n",
      "94/94 [==============================] - 13s 135ms/step - loss: 0.2537 - accuracy: 0.9047 - val_loss: 0.6364 - val_accuracy: 0.8182\n",
      "Epoch 18/25\n",
      "94/94 [==============================] - 13s 136ms/step - loss: 0.2524 - accuracy: 0.9000 - val_loss: 0.9107 - val_accuracy: 0.8040\n",
      "Epoch 19/25\n",
      "94/94 [==============================] - 13s 138ms/step - loss: 0.2554 - accuracy: 0.9060 - val_loss: 1.7961 - val_accuracy: 0.7557\n",
      "Epoch 20/25\n",
      "94/94 [==============================] - 13s 134ms/step - loss: 0.2477 - accuracy: 0.9033 - val_loss: 1.0285 - val_accuracy: 0.7955\n",
      "Epoch 21/25\n",
      "94/94 [==============================] - 13s 134ms/step - loss: 0.2090 - accuracy: 0.9200 - val_loss: 0.3433 - val_accuracy: 0.7756\n",
      "Epoch 22/25\n",
      "94/94 [==============================] - 13s 136ms/step - loss: 0.2006 - accuracy: 0.9167 - val_loss: 1.0927 - val_accuracy: 0.8210\n",
      "Epoch 23/25\n",
      "94/94 [==============================] - 12s 132ms/step - loss: 0.1936 - accuracy: 0.9293 - val_loss: 0.7307 - val_accuracy: 0.8040\n",
      "Epoch 24/25\n",
      "94/94 [==============================] - 12s 132ms/step - loss: 0.1811 - accuracy: 0.9380 - val_loss: 0.4133 - val_accuracy: 0.8210\n",
      "Epoch 25/25\n",
      "94/94 [==============================] - 13s 135ms/step - loss: 0.1611 - accuracy: 0.9427 - val_loss: 0.5762 - val_accuracy: 0.8068\n"
     ]
    },
    {
     "data": {
      "text/plain": [
       "<keras.callbacks.callbacks.History at 0x296ae10aac8>"
      ]
     },
     "execution_count": 16,
     "metadata": {},
     "output_type": "execute_result"
    }
   ],
   "source": [
    "model.fit_generator(train ,validation_data=test,epochs = 25)"
   ]
  },
  {
   "cell_type": "code",
   "execution_count": 17,
   "metadata": {},
   "outputs": [],
   "source": [
    "model.save('ship_classification.h5')"
   ]
  }
 ],
 "metadata": {
  "kernelspec": {
   "display_name": "Python 3",
   "language": "python",
   "name": "python3"
  },
  "language_info": {
   "codemirror_mode": {
    "name": "ipython",
    "version": 3
   },
   "file_extension": ".py",
   "mimetype": "text/x-python",
   "name": "python",
   "nbconvert_exporter": "python",
   "pygments_lexer": "ipython3",
   "version": "3.7.6"
  }
 },
 "nbformat": 4,
 "nbformat_minor": 4
}
